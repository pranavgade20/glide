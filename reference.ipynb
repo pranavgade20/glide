{
 "cells": [
  {
   "cell_type": "code",
   "execution_count": 3,
   "metadata": {
    "collapsed": false,
    "pycharm": {
     "name": "#%%\n"
    }
   },
   "outputs": [],
   "source": [
    "import sys\n",
    "\n",
    "sys.path.append(\"./reference\")"
   ]
  },
  {
   "cell_type": "code",
   "execution_count": 4,
   "metadata": {
    "collapsed": false,
    "pycharm": {
     "name": "#%%\n"
    }
   },
   "outputs": [
    {
     "name": "stdout",
     "output_type": "stream",
     "text": [
      "The autoreload extension is already loaded. To reload it, use:\n",
      "  %reload_ext autoreload\n"
     ]
    }
   ],
   "source": [
    "%load_ext autoreload\n",
    "%autoreload 2"
   ]
  },
  {
   "cell_type": "code",
   "execution_count": 5,
   "metadata": {
    "collapsed": false,
    "pycharm": {
     "name": "#%%\n"
    }
   },
   "outputs": [],
   "source": [
    "from PIL import Image\n",
    "from IPython.display import display\n",
    "import torch as th\n",
    "\n",
    "from reference.glide_text2im.download import load_checkpoint\n",
    "from reference.glide_text2im.model_creation import (\n",
    "    create_model_and_diffusion,\n",
    "    model_and_diffusion_defaults,\n",
    "    model_and_diffusion_defaults_upsampler\n",
    ")"
   ]
  },
  {
   "cell_type": "code",
   "execution_count": 6,
   "metadata": {
    "collapsed": false,
    "pycharm": {
     "name": "#%%\n"
    }
   },
   "outputs": [],
   "source": [
    "# This notebook supports both CPU and GPU.\n",
    "# On CPU, generating one sample may take on the order of 20 minutes.\n",
    "# On a GPU, it should be under a minute.\n",
    "\n",
    "has_cuda = th.cuda.is_available()\n",
    "device = th.device('cpu' if not has_cuda else 'cuda')"
   ]
  },
  {
   "cell_type": "code",
   "execution_count": 13,
   "metadata": {},
   "outputs": [
    {
     "name": "stdout",
     "output_type": "stream",
     "text": [
      "total base parameters 385030726\n"
     ]
    }
   ],
   "source": [
    "# Create base model.\n",
    "options = model_and_diffusion_defaults()\n",
    "options['use_fp16'] = has_cuda\n",
    "options['timestep_respacing'] = '2' # use 100 diffusion steps for fast sampling\n",
    "ref_model, diffusion = create_model_and_diffusion(**options)\n",
    "ref_model.eval()\n",
    "if has_cuda:\n",
    "    ref_model.convert_to_fp16()\n",
    "ref_model.to(device)\n",
    "ref_model.load_state_dict(load_checkpoint('base', device))\n",
    "print('total base parameters', sum(x.numel() for x in ref_model.parameters()))"
   ]
  },
  {
   "cell_type": "code",
   "execution_count": 14,
   "metadata": {},
   "outputs": [
    {
     "data": {
      "text/plain": [
       "<All keys matched successfully>"
      ]
     },
     "execution_count": 14,
     "metadata": {},
     "output_type": "execute_result"
    }
   ],
   "source": [
    "# Create our model\n",
    "from unet import Text2Im\n",
    "from reference.glide_text2im.tokenizer.bpe import get_encoder\n",
    "tokenizer = get_encoder()\n",
    "our_model = Text2Im(tokenizer)\n",
    "state = ref_model.state_dict()\n",
    "mapped = {ours: state[theirs] for ours, theirs in zip(our_model.state_dict().keys(), ref_model.state_dict().keys())}\n",
    "our_model.load_state_dict(mapped)"
   ]
  },
  {
   "cell_type": "code",
   "execution_count": 15,
   "metadata": {},
   "outputs": [],
   "source": [
    "def show_images(batch: th.Tensor):\n",
    "    \"\"\" Display a batch of images inline. \"\"\"\n",
    "    scaled = ((batch + 1)*127.5).round().clamp(0,255).to(th.uint8).cpu()\n",
    "    reshaped = scaled.permute(2, 0, 3, 1).reshape([batch.shape[2], -1, 3])\n",
    "    display(Image.fromarray(reshaped.numpy()))"
   ]
  },
  {
   "cell_type": "code",
   "execution_count": 16,
   "metadata": {},
   "outputs": [],
   "source": [
    "# Sampling parameters\n",
    "prompt = \"an oil painting of a corgi\"\n",
    "batch_size = 1\n",
    "guidance_scale = 3.0\n",
    "\n",
    "# Tune this parameter to control the sharpness of 256x256 images.\n",
    "# A value of 1.0 is sharper, but sometimes results in grainy artifacts.\n",
    "upsample_temp = 0.997"
   ]
  },
  {
   "cell_type": "code",
   "execution_count": 22,
   "metadata": {
    "pycharm": {
     "is_executing": true
    }
   },
   "outputs": [],
   "source": [
    "##############################\n",
    "# Sample from the base model #\n",
    "##############################\n",
    "\n",
    "# Create the text tokens to feed to the model.\n",
    "tokens = model.tokenizer.encode(prompt)\n",
    "tokens, mask = model.tokenizer.padded_tokens_and_mask(\n",
    "    tokens, options['text_ctx']\n",
    ")\n",
    "\n",
    "# Create the classifier-free guidance tokens (empty)\n",
    "full_batch_size = batch_size * 2\n",
    "uncond_tokens, uncond_mask = model.tokenizer.padded_tokens_and_mask(\n",
    "    [], options['text_ctx']\n",
    ")\n",
    "\n",
    "# Pack the tokens together into model kwargs.\n",
    "model_kwargs = dict(\n",
    "    tokens=th.tensor(\n",
    "        [tokens] * batch_size + [uncond_tokens] * batch_size, device=device\n",
    "    ),\n",
    "    mask=th.tensor(\n",
    "        [mask] * batch_size + [uncond_mask] * batch_size,\n",
    "        dtype=th.bool,\n",
    "        device=device,\n",
    "    ),\n",
    ")\n",
    "\n",
    "\n",
    "# Create a classifier-free guidance sampling function\n",
    "def ref_model_fn(x_t, ts, **kwargs):\n",
    "    half = x_t[: len(x_t) // 2]\n",
    "    combined = th.cat([half, half], dim=0)\n",
    "    model_out = ref_model(combined, ts, **kwargs)\n",
    "    eps, rest = model_out[:, :3], model_out[:, 3:]\n",
    "    cond_eps, uncond_eps = th.split(eps, len(eps) // 2, dim=0)\n",
    "    half_eps = uncond_eps + guidance_scale * (cond_eps - uncond_eps)\n",
    "    eps = th.cat([half_eps, half_eps], dim=0)\n",
    "    return th.cat([eps, rest], dim=1)\n",
    "\n",
    "def our_model_fn(x_t, ts, **kwargs):\n",
    "    half = x_t[: len(x_t) // 2]\n",
    "    combined = th.cat([half, half], dim=0)\n",
    "    model_out = our_model(combined, ts, **kwargs)\n",
    "    eps, rest = model_out[:, :3], model_out[:, 3:]\n",
    "    cond_eps, uncond_eps = th.split(eps, len(eps) // 2, dim=0)\n",
    "    half_eps = uncond_eps + guidance_scale * (cond_eps - uncond_eps)\n",
    "    eps = th.cat([half_eps, half_eps], dim=0)\n",
    "    return th.cat([eps, rest], dim=1)\n",
    "\n",
    "noise = th.randn(full_batch_size, 3, 64, 64, device=device)\n",
    "\n",
    "\n"
   ]
  },
  {
   "cell_type": "code",
   "execution_count": 25,
   "metadata": {
    "collapsed": false,
    "pycharm": {
     "name": "#%%\n"
    }
   },
   "outputs": [
    {
     "name": "stderr",
     "output_type": "stream",
     "text": [
      "100%|██████████| 2/2 [00:13<00:00,  6.51s/it]\n"
     ]
    },
    {
     "data": {
      "image/png": "[encoded data removed]",
      "text/plain": [
       "<PIL.Image.Image image mode=RGB size=64x64 at 0x7FB492061850>"
      ]
     },
     "metadata": {},
     "output_type": "display_data"
    }
   ],
   "source": [
    "import copy\n",
    "\n",
    "cloned_noise = copy.deepcopy(noise)\n",
    "\n",
    "\n",
    "# Sample from the base model.\n",
    "our_model.del_cache()\n",
    "samples = diffusion.p_sample_loop(\n",
    "    our_model_fn,\n",
    "    (full_batch_size, 3, options[\"image_size\"], options[\"image_size\"]),\n",
    "    device=device,\n",
    "    clip_denoised=True,\n",
    "    progress=True,\n",
    "    model_kwargs=model_kwargs,\n",
    "    cond_fn=None,\n",
    "    noise=cloned_noise\n",
    ")[:batch_size]\n",
    "our_model.del_cache()\n",
    "\n",
    "# Show the output\n",
    "show_images(samples)"
   ]
  },
  {
   "cell_type": "code",
   "execution_count": 26,
   "metadata": {},
   "outputs": [
    {
     "name": "stderr",
     "output_type": "stream",
     "text": [
      "100%|██████████| 2/2 [00:12<00:00,  6.10s/it]\n"
     ]
    },
    {
     "data": {
      "image/png": "[encoded data removed]",
      "text/plain": [
       "<PIL.Image.Image image mode=RGB size=64x64 at 0x7FB4F2032D60>"
      ]
     },
     "metadata": {},
     "output_type": "display_data"
    }
   ],
   "source": [
    "import copy\n",
    "\n",
    "cloned_noise = copy.deepcopy(noise)\n",
    "\n",
    "\n",
    "# Sample from the base model.\n",
    "ref_model.del_cache()\n",
    "samples = diffusion.p_sample_loop(\n",
    "    ref_model_fn,\n",
    "    (full_batch_size, 3, options[\"image_size\"], options[\"image_size\"]),\n",
    "    device=device,\n",
    "    clip_denoised=True,\n",
    "    progress=True,\n",
    "    model_kwargs=model_kwargs,\n",
    "    cond_fn=None,\n",
    "    noise=cloned_noise\n",
    ")[:batch_size]\n",
    "ref_model.del_cache()\n",
    "\n",
    "# Show the output\n",
    "show_images(samples)"
   ]
  },
  {
   "cell_type": "code",
   "execution_count": 35,
   "metadata": {},
   "outputs": [
    {
     "data": {
      "image/png": "[encoded data removed]",
      "text/plain": [
       "<PIL.Image.Image image mode=RGB size=64x64 at 0x7FB4F2032CD0>"
      ]
     },
     "metadata": {},
     "output_type": "display_data"
    }
   ],
   "source": [
    "# Breaking down p_sample_loop part 1\n",
    "\n",
    "import copy\n",
    "\n",
    "cloned_noise = copy.deepcopy(noise)\n",
    "\n",
    "# Sample from the base model.\n",
    "ref_model.del_cache()\n",
    "# samples = diffusion.p_sample_loop(\n",
    "#     ref_model_fn,\n",
    "#     (full_batch_size, 3, options[\"image_size\"], options[\"image_size\"]),\n",
    "#     device=device,\n",
    "#     clip_denoised=True,\n",
    "#     progress=True,\n",
    "#     model_kwargs=model_kwargs,\n",
    "#     cond_fn=None,\n",
    "#     noise=cloned_noise\n",
    "# )[:batch_size]\n",
    "final = None\n",
    "for sample in diffusion.p_sample_loop_progressive(\n",
    "    ref_model_fn,\n",
    "    (2, 3, 64, 64),\n",
    "    noise=cloned_noise,\n",
    "    clip_denoised=False,\n",
    "    denoised_fn=None,\n",
    "    cond_fn=None,\n",
    "    model_kwargs=model_kwargs,\n",
    "    device='cpu',\n",
    "):\n",
    "    final = sample\n",
    "sample = final['sample'][:batch_size]\n",
    "ref_model.del_cache()\n",
    "\n",
    "# Show the output\n",
    "show_images(sample)"
   ]
  },
  {
   "cell_type": "code",
   "execution_count": 65,
   "metadata": {},
   "outputs": [
    {
     "name": "stderr",
     "output_type": "stream",
     "text": [
      "100%|██████████| 2/2 [00:12<00:00,  6.06s/it]\n"
     ]
    },
    {
     "data": {
      "image/png": "[encoded data removed]",
      "text/plain": [
       "<PIL.Image.Image image mode=RGB size=64x64 at 0x7FB6228FDF70>"
      ]
     },
     "metadata": {},
     "output_type": "display_data"
    }
   ],
   "source": [
    "# Breaking down p_sample_loop part 2\n",
    "\n",
    "th.manual_seed(2)\n",
    "import random\n",
    "random.seed(2)\n",
    "np.random.seed(2)\n",
    "\n",
    "import copy\n",
    "from tqdm.auto import tqdm\n",
    "\n",
    "cloned_noise = copy.deepcopy(noise)\n",
    "\n",
    "# Sample from the base model.\n",
    "ref_model.del_cache()\n",
    "\n",
    "indices = list(range(2))[::-1]\n",
    "img = cloned_noise\n",
    "for i in tqdm(indices):\n",
    "    t = th.tensor([i]*2)\n",
    "    with th.no_grad():\n",
    "        out = diffusion.p_sample(\n",
    "            ref_model_fn,\n",
    "            img,\n",
    "            t,\n",
    "            clip_denoised=False,\n",
    "            denoised_fn=None,\n",
    "            cond_fn=None,\n",
    "            model_kwargs=model_kwargs,\n",
    "        )\n",
    "        img = out[\"sample\"]\n",
    "ref_model.del_cache()\n",
    "\n",
    "# Show the output\n",
    "show_images(sample)"
   ]
  },
  {
   "cell_type": "code",
   "execution_count": 56,
   "metadata": {},
   "outputs": [
    {
     "name": "stderr",
     "output_type": "stream",
     "text": [
      "100%|██████████| 2/2 [00:11<00:00,  5.81s/it]\n"
     ]
    },
    {
     "data": {
      "image/png": "[encoded data removed]",
      "text/plain": [
       "<PIL.Image.Image image mode=RGB size=64x64 at 0x7FB4F2032F40>"
      ]
     },
     "metadata": {},
     "output_type": "display_data"
    }
   ],
   "source": [
    "# Breaking down p_sample_loop part 3\n",
    "\n",
    "cloned_noise = copy.deepcopy(noise)\n",
    "\n",
    "# Sample from the base model.\n",
    "ref_model.del_cache()\n",
    "indices = list(range(2))[::-1]\n",
    "img = cloned_noise\n",
    "for i in tqdm(indices):\n",
    "    t = th.tensor([i]*2)\n",
    "    with th.no_grad():\n",
    "        out = diffusion.p_mean_variance(\n",
    "            ref_model_fn,\n",
    "            img,\n",
    "            t,\n",
    "            clip_denoised=False,\n",
    "            denoised_fn=None,\n",
    "            model_kwargs=model_kwargs,\n",
    "        )\n",
    "        temp_noise = th.rand_like(img)\n",
    "        nonzero_mask = (\n",
    "            (t != 0).float().view(-1, *([1] * (len(img.shape) - 1)))\n",
    "        )\n",
    "        img = out[\"mean\"] + nonzero_mask * th.exp(0.5 * out[\"log_variance\"]) * noise\n",
    "ref_model.del_cache()\n",
    "img = img[:batch_size]\n",
    "\n",
    "# Show the output\n",
    "show_images(img)"
   ]
  },
  {
   "cell_type": "code",
   "execution_count": 55,
   "metadata": {},
   "outputs": [],
   "source": [
    "import numpy as np\n",
    "def _extract_into_tensor(arr, timesteps, broadcast_shape):\n",
    "    \"\"\"\n",
    "    Extract values from a 1-D numpy array for a batch of indices.\n",
    "\n",
    "    :param arr: the 1-D numpy array.\n",
    "    :param timesteps: a tensor of indices into the array to extract.\n",
    "    :param broadcast_shape: a larger shape of K dimensions with the batch\n",
    "                            dimension equal to the length of timesteps.\n",
    "    :return: a tensor of shape [batch_size, 1, ...] where the shape has K dims.\n",
    "    \"\"\"\n",
    "    res = th.from_numpy(arr).to(device=timesteps.device)[timesteps].float()\n",
    "    while len(res.shape) < len(broadcast_shape):\n",
    "        res = res[..., None]\n",
    "    return res + th.zeros(broadcast_shape, device=timesteps.device)\n"
   ]
  },
  {
   "cell_type": "code",
   "execution_count": 71,
   "metadata": {},
   "outputs": [],
   "source": [
    "# p_mean_variance version 1\n",
    "\n",
    "def p_mean_variance(model, x, t, clip_denoised=False, denoised_fn=None, model_kwargs=None):\n",
    "        \"\"\"\n",
    "        Apply the model to get p(x_{t-1} | x_t), as well as a prediction of\n",
    "        the initial x, x_0.\n",
    "\n",
    "        :param model: the model, which takes a signal and a batch of timesteps\n",
    "                      as input.\n",
    "        :param x: the [N x C x ...] tensor at time t.\n",
    "        :param t: a 1-D Tensor of timesteps.\n",
    "        :param clip_denoised: if True, clip the denoised signal into [-1, 1].\n",
    "        :param denoised_fn: if not None, a function which applies to the\n",
    "            x_start prediction before it is used to sample. Applies before\n",
    "            clip_denoised.\n",
    "        :param model_kwargs: if not None, a dict of extra keyword arguments to\n",
    "            pass to the model. This can be used for conditioning.\n",
    "        :return: a dict with the following keys:\n",
    "                 - 'mean': the model mean output.\n",
    "                 - 'variance': the model variance output.\n",
    "                 - 'log_variance': the log of 'variance'.\n",
    "                 - 'pred_xstart': the prediction for x_0.\n",
    "        \"\"\"\n",
    "        if model_kwargs is None:\n",
    "            model_kwargs = {}\n",
    "\n",
    "        B, C = x.shape[:2]\n",
    "        assert t.shape == (B,)\n",
    "        model_output = model(x, t, **model_kwargs)\n",
    "        if isinstance(model_output, tuple):\n",
    "            model_output, extra = model_output\n",
    "        else:\n",
    "            extra = None\n",
    "\n",
    "        assert model_output.shape == (B, C * 2, *x.shape[2:])\n",
    "        model_output, model_var_values = th.split(model_output, C, dim=1)\n",
    "        min_log = _extract_into_tensor(diffusion.posterior_log_variance_clipped, t, x.shape)\n",
    "        max_log = _extract_into_tensor(np.log(diffusion.betas), t, x.shape)\n",
    "        # The model_var_values is [-1, 1] for [min_var, max_var].\n",
    "        frac = (model_var_values + 1) / 2\n",
    "        model_log_variance = frac * max_log + (1 - frac) * min_log\n",
    "        model_variance = th.exp(model_log_variance)\n",
    "\n",
    "        pred_xstart = diffusion._predict_xstart_from_eps(x_t=x, t=t, eps=model_output)\n",
    "        model_mean, _, _ = diffusion.q_posterior_mean_variance(x_start=pred_xstart, x_t=x, t=t)\n",
    "\n",
    "        assert model_mean.shape == model_log_variance.shape == pred_xstart.shape == x.shape\n",
    "        return {\n",
    "            \"mean\": model_mean,\n",
    "            \"variance\": model_variance,\n",
    "            \"log_variance\": model_log_variance,\n",
    "            \"pred_xstart\": pred_xstart,\n",
    "            \"extra\": extra,\n",
    "        }"
   ]
  },
  {
   "cell_type": "code",
   "execution_count": 75,
   "metadata": {},
   "outputs": [
    {
     "name": "stderr",
     "output_type": "stream",
     "text": [
      "100%|██████████| 2/2 [00:12<00:00,  6.19s/it]\n"
     ]
    },
    {
     "data": {
      "image/png": "[encoded data removed]",
      "text/plain": [
       "<PIL.Image.Image image mode=RGB size=64x64 at 0x7FB4920667C0>"
      ]
     },
     "metadata": {},
     "output_type": "display_data"
    }
   ],
   "source": [
    "# Breaking down p_sample_loop part 4\n",
    "\n",
    "cloned_noise = copy.deepcopy(noise)\n",
    "\n",
    "# Sample from the base model.\n",
    "ref_model.del_cache()\n",
    "indices = list(range(2))[::-1]\n",
    "img = cloned_noise\n",
    "for i in tqdm(indices):\n",
    "    t = th.tensor([i]*2)\n",
    "    with th.no_grad():\n",
    "        out = p_mean_variance(\n",
    "            diffusion._wrap_model(ref_model_fn),\n",
    "            img,\n",
    "            t,\n",
    "            clip_denoised=False,\n",
    "            denoised_fn=None,\n",
    "            model_kwargs=model_kwargs,\n",
    "        )\n",
    "        temp_noise = th.rand_like(img)\n",
    "        nonzero_mask = (\n",
    "            (t != 0).float().view(-1, *([1] * (len(img.shape) - 1)))\n",
    "        )\n",
    "        img = out[\"mean\"] + nonzero_mask * th.exp(0.5 * out[\"log_variance\"]) * temp_noise\n",
    "ref_model.del_cache()\n",
    "img = img[:batch_size]\n",
    "\n",
    "# Show the output\n",
    "show_images(img)"
   ]
  },
  {
   "cell_type": "code",
   "execution_count": 77,
   "metadata": {},
   "outputs": [],
   "source": [
    "# p_mean_variance version 2\n",
    "\n",
    "def p_mean_variance(model, x, t, clip_denoised=False, denoised_fn=None, model_kwargs=None):\n",
    "    \"\"\"\n",
    "    Apply the model to get p(x_{t-1} | x_t), as well as a prediction of\n",
    "    the initial x, x_0.\n",
    "\n",
    "    :param model: the model, which takes a signal and a batch of timesteps\n",
    "                    as input.\n",
    "    :param x: the [N x C x ...] tensor at time t.\n",
    "    :param t: a 1-D Tensor of timesteps.\n",
    "    :param clip_denoised: if True, clip the denoised signal into [-1, 1].\n",
    "    :param denoised_fn: if not None, a function which applies to the\n",
    "        x_start prediction before it is used to sample. Applies before\n",
    "        clip_denoised.\n",
    "    :param model_kwargs: if not None, a dict of extra keyword arguments to\n",
    "        pass to the model. This can be used for conditioning.\n",
    "    :return: a dict with the following keys:\n",
    "                - 'mean': the model mean output.\n",
    "                - 'variance': the model variance output.\n",
    "                - 'log_variance': the log of 'variance'.\n",
    "                - 'pred_xstart': the prediction for x_0.\n",
    "    \"\"\"\n",
    "    if model_kwargs is None:\n",
    "        model_kwargs = {}\n",
    "\n",
    "    B, C = x.shape[:2]\n",
    "    assert t.shape == (B,)\n",
    "    model_output = model(x, t, **model_kwargs)\n",
    "    if isinstance(model_output, tuple):\n",
    "        model_output, extra = model_output\n",
    "    else:\n",
    "        extra = None\n",
    "\n",
    "    assert model_output.shape == (B, C * 2, *x.shape[2:])\n",
    "    model_output, model_var_values = th.split(model_output, C, dim=1)\n",
    "    min_log = _extract_into_tensor(diffusion.posterior_log_variance_clipped, t, x.shape)\n",
    "    max_log = _extract_into_tensor(np.log(diffusion.betas), t, x.shape)\n",
    "    # The model_var_values is [-1, 1] for [min_var, max_var].\n",
    "    frac = (model_var_values + 1) / 2\n",
    "    model_log_variance = frac * max_log + (1 - frac) * min_log\n",
    "    model_variance = th.exp(model_log_variance)\n",
    "\n",
    "    pred_xstart = diffusion._predict_xstart_from_eps(x_t=x, t=t, eps=model_output)\n",
    "    model_mean, _, _ = diffusion.q_posterior_mean_variance(x_start=pred_xstart, x_t=x, t=t)\n",
    "\n",
    "    assert model_mean.shape == model_log_variance.shape == pred_xstart.shape == x.shape\n",
    "    return {\n",
    "        \"mean\": model_mean,\n",
    "        \"variance\": model_variance,\n",
    "        \"log_variance\": model_log_variance,\n",
    "        \"pred_xstart\": pred_xstart,\n",
    "        \"extra\": extra,\n",
    "    }"
   ]
  },
  {
   "cell_type": "code",
   "execution_count": 78,
   "metadata": {},
   "outputs": [
    {
     "name": "stderr",
     "output_type": "stream",
     "text": [
      "  0%|          | 0/2 [00:00<?, ?it/s]"
     ]
    },
    {
     "name": "stdout",
     "output_type": "stream",
     "text": [
      "yes\n"
     ]
    }
   ],
   "source": [
    "# Breaking down p_sample_loop part 5\n",
    "\n",
    "cloned_noise = copy.deepcopy(noise)\n",
    "\n",
    "# Sample from the base model.\n",
    "ref_model.del_cache()\n",
    "indices = list(range(2))[::-1]\n",
    "img = cloned_noise\n",
    "for i in tqdm(indices):\n",
    "    t = th.tensor([i]*2)\n",
    "    with th.no_grad():\n",
    "        out = p_mean_variance(\n",
    "            diffusion._wrap_model(ref_model_fn),\n",
    "            img,\n",
    "            t,\n",
    "            clip_denoised=False,\n",
    "            denoised_fn=None,\n",
    "            model_kwargs=model_kwargs,\n",
    "        )\n",
    "        temp_noise = th.rand_like(img)\n",
    "        nonzero_mask = (\n",
    "            (t != 0).float().view(-1, *([1] * (len(img.shape) - 1)))\n",
    "        )\n",
    "        img = out[\"mean\"] + nonzero_mask * th.exp(0.5 * out[\"log_variance\"]) * temp_noise\n",
    "ref_model.del_cache()\n",
    "img = img[:batch_size]\n",
    "\n",
    "# Show the output\n",
    "show_images(img)"
   ]
  },
  {
   "cell_type": "code",
   "execution_count": null,
   "metadata": {},
   "outputs": [],
   "source": []
  }
 ],
 "metadata": {
  "accelerator": "GPU",
  "interpreter": {
   "hash": "e7d6e62d90e7e85f9a0faa7f0b1d576302d7ae6108e9fe361594f8e1c8b05781"
  },
  "kernelspec": {
   "display_name": "Python 3",
   "language": "python",
   "name": "python3"
  },
  "language_info": {
   "codemirror_mode": {
    "name": "ipython",
    "version": 3
   },
   "file_extension": ".py",
   "mimetype": "text/x-python",
   "name": "python",
   "nbconvert_exporter": "python",
   "pygments_lexer": "ipython3",
   "version": "3.8.12"
  }
 },
 "nbformat": 4,
 "nbformat_minor": 2
}
